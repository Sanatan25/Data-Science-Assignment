{
 "cells": [
  {
   "cell_type": "code",
   "execution_count": null,
   "id": "356b9564-251e-427f-9046-22edd6026c79",
   "metadata": {},
   "outputs": [],
   "source": [
    "##Q1\n",
    "In object-oriented programming, exceptions are a way to handle and communicate errors or exceptional conditions that can occur \n",
    "during the execution of a program. Custom exceptions allow you to define and handle specific error scenarios that are relevant to \n",
    "your application's domain. When creating a custom exception, it's common to derive your custom exception class from the base \n",
    "Exception class (or one of its subclasses) that is provided by the programming language. Here's why using the Exception class as \n",
    "the base for custom exceptions is a good practice:\n",
    "1.Consisteency and Recognizability\n",
    "2.Standard Error Handling Practice\n",
    "3.Hierachy and Categorization\n",
    "4.Interoperability\n",
    "5.Code Readability and Maintainability"
   ]
  },
  {
   "cell_type": "code",
   "execution_count": null,
   "id": "d2ae6902-31d6-4f3f-b54a-d8e4e56e876e",
   "metadata": {},
   "outputs": [],
   "source": [
    "##Q2\n",
    "def print_exception_hierarchy(exception_class, indent=0):\n",
    "    print(\" \" * indent + exception_class._name_)\n",
    "    for subclass in exception_class._subclasses_():\n",
    "        print_exception_hierarchy(subclass, indent + 2)\n",
    "\n",
    "print(\"Python Exception Hierarchy:\")\n",
    "print_exception_hierarchy(BaseException)"
   ]
  },
  {
   "cell_type": "code",
   "execution_count": null,
   "id": "5eb82057-f3d1-4c6c-a2fd-b92e971610b5",
   "metadata": {},
   "outputs": [],
   "source": [
    "##Q3\n",
    "The ArithmeticError class in Python is a base class for exceptions that occur during arithmetic operations. It serves as the parent class for various specific arithmetic-related exception classes. Here are two exceptions that are derived from ArithmeticError, along with explanations and examples:\n",
    "    \n",
    "1.ZeroDivisionError: This exception is raised when attempting to divide a number by zero.\n",
    "\n",
    "Example:\n",
    "\n",
    "dividend = 10\n",
    "divisor = 0\n",
    "\n",
    "try:\n",
    "    result = dividend / divisor\n",
    "except ZeroDivisionError as e:\n",
    "    print(\"Error:\", e)\n",
    "    \n",
    "    \n",
    "2. OverflowError: This exception is raised when an arithmetic operation exceeds the limits of the data type, causing an overflow.\n",
    "\n",
    "Example:\n",
    "max_value = 2**31 - 1  # Maximum value for a 32-bit signed integer\n",
    "result = max_value + 1\n",
    "\n",
    "try:\n",
    "    print(result)\n",
    "except OverflowError as e:\n",
    "    print(\"Error:\", e)\n",
    "    \n",
    "    "
   ]
  },
  {
   "cell_type": "code",
   "execution_count": null,
   "id": "831f4564-bb75-45cb-b983-3fb89c43a389",
   "metadata": {},
   "outputs": [],
   "source": [
    "##Q4\n",
    "The LookupError class in Python is a base class for exceptions that are raised when a specific lookup or indexing operation fails. \n",
    "It provides a common base for more specific lookup-related exceptions, such as KeyError and IndexError. The use of LookupError as a \n",
    "base class allows you to catch and handle these types of lookup failures in a unified way.\n",
    "\n",
    "1.KeyError: This exception is raised when you try to access a dictionary using a key that doesn't exist in the dictionary.\n",
    "\n",
    "Example:\n",
    "    \n",
    "my_dict = {'a': 1, 'b': 2, 'c': 3}\n",
    "\n",
    "try:\n",
    "    value = my_dict['d']  # Accessing a non-existent key\n",
    "except KeyError as e:\n",
    "    print(\"Error:\", e)\n",
    "    \n",
    "    \n",
    "2.IndexError: This exception is raised when you try to access a sequence (like a list or tuple) using an index that is out of range.\n",
    "\n",
    "Example:\n",
    "\n",
    "my_list = [10, 20, 30]\n",
    "\n",
    "try:\n",
    "    value = my_list[3]  # Accessing an index out of range\n",
    "except IndexError as e:\n",
    "    print(\"Error:\", e)"
   ]
  },
  {
   "cell_type": "code",
   "execution_count": null,
   "id": "aaef1050-22d2-4697-90ff-c5a248293068",
   "metadata": {},
   "outputs": [],
   "source": [
    "##Q5\n",
    "1.ImportError is a base class for exceptions related to importing modules. It's raised when there is a problem while importing a \n",
    "module, such as a module not being found or issues within the module's code. This exception covers a range of errors that can occur \n",
    "during the import process.\n",
    "\n",
    "2.ModuleNotFoundError is a subclass of ImportError and is specifically raised when the requested module cannot be found during the\n",
    "import process. It was introduced in Python 3.6 to provide a more specific error message when a module is not found."
   ]
  },
  {
   "cell_type": "code",
   "execution_count": null,
   "id": "1e94c6e4-f757-42b4-aae7-98eeb8bdb9af",
   "metadata": {},
   "outputs": [],
   "source": [
    "##Q6\n",
    "list of some best practic for exception handling in python are :\n",
    "1.use always a specific Exceptions\n",
    "2.print always a proper message\n",
    "3.always try to log your error\n",
    "4.always avoid to write a multiple exception handling\n",
    "5.Documnet all the error\n",
    "6.cleanup all the resources"
   ]
  }
 ],
 "metadata": {
  "kernelspec": {
   "display_name": "Python 3 (ipykernel)",
   "language": "python",
   "name": "python3"
  },
  "language_info": {
   "codemirror_mode": {
    "name": "ipython",
    "version": 3
   },
   "file_extension": ".py",
   "mimetype": "text/x-python",
   "name": "python",
   "nbconvert_exporter": "python",
   "pygments_lexer": "ipython3",
   "version": "3.10.8"
  }
 },
 "nbformat": 4,
 "nbformat_minor": 5
}
