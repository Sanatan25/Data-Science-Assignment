{
 "cells": [
  {
   "cell_type": "code",
   "execution_count": 1,
   "id": "2471df0c-7fe6-4da3-a8ef-d1693a56d22b",
   "metadata": {},
   "outputs": [
    {
     "name": "stdout",
     "output_type": "stream",
     "text": [
      "0     4\n",
      "1     8\n",
      "2    15\n",
      "3    16\n",
      "4    23\n",
      "5    42\n",
      "dtype: int64\n"
     ]
    }
   ],
   "source": [
    "##Q1\n",
    "\n",
    "import pandas as pd\n",
    "data = [4, 8, 15, 16, 23, 42]\n",
    "series = pd.Series(data)\n",
    "print(series)"
   ]
  },
  {
   "cell_type": "code",
   "execution_count": 2,
   "id": "78b5e2e3-df14-4ea4-b19b-e2aec988eea4",
   "metadata": {},
   "outputs": [
    {
     "data": {
      "text/plain": [
       "0    1\n",
       "1    2\n",
       "2    3\n",
       "3    4\n",
       "4    5\n",
       "5    6\n",
       "6    7\n",
       "dtype: int64"
      ]
     },
     "execution_count": 2,
     "metadata": {},
     "output_type": "execute_result"
    }
   ],
   "source": [
    "##Q2\n",
    "list = [1,2,3,4,5,6,7]\n",
    "series = pd.Series(list)\n",
    "series\n"
   ]
  },
  {
   "cell_type": "code",
   "execution_count": 4,
   "id": "44793de7-f581-4cc3-b60e-d7b4e5a7a1f6",
   "metadata": {},
   "outputs": [
    {
     "data": {
      "text/html": [
       "<div>\n",
       "<style scoped>\n",
       "    .dataframe tbody tr th:only-of-type {\n",
       "        vertical-align: middle;\n",
       "    }\n",
       "\n",
       "    .dataframe tbody tr th {\n",
       "        vertical-align: top;\n",
       "    }\n",
       "\n",
       "    .dataframe thead th {\n",
       "        text-align: right;\n",
       "    }\n",
       "</style>\n",
       "<table border=\"1\" class=\"dataframe\">\n",
       "  <thead>\n",
       "    <tr style=\"text-align: right;\">\n",
       "      <th></th>\n",
       "      <th>Name</th>\n",
       "      <th>Age</th>\n",
       "      <th>Gender</th>\n",
       "    </tr>\n",
       "  </thead>\n",
       "  <tbody>\n",
       "    <tr>\n",
       "      <th>0</th>\n",
       "      <td>Alice</td>\n",
       "      <td>25</td>\n",
       "      <td>Female</td>\n",
       "    </tr>\n",
       "    <tr>\n",
       "      <th>1</th>\n",
       "      <td>Bob</td>\n",
       "      <td>30</td>\n",
       "      <td>Male</td>\n",
       "    </tr>\n",
       "    <tr>\n",
       "      <th>2</th>\n",
       "      <td>Claire</td>\n",
       "      <td>27</td>\n",
       "      <td>Female</td>\n",
       "    </tr>\n",
       "  </tbody>\n",
       "</table>\n",
       "</div>"
      ],
      "text/plain": [
       "     Name  Age  Gender\n",
       "0   Alice   25  Female\n",
       "1     Bob   30    Male\n",
       "2  Claire   27  Female"
      ]
     },
     "execution_count": 4,
     "metadata": {},
     "output_type": "execute_result"
    }
   ],
   "source": [
    "##Q3\n",
    "\n",
    "data = {\n",
    "    'Name': ['Alice','Bob','Claire'],\n",
    "    'Age': [25,30,27],\n",
    "    'Gender': [\"Female\",\"Male\",\"Female\"]\n",
    "}\n",
    "pd.DataFrame(data)"
   ]
  },
  {
   "cell_type": "code",
   "execution_count": null,
   "id": "fd019eb0-bba2-4d02-b3f6-3c2bca506b2b",
   "metadata": {},
   "outputs": [],
   "source": [
    "##Q4\n",
    "In Pandas, a DataFrame is a two-dimensional, size-mutable, and potentially heterogeneous tabular data structure. It is essentially a\n",
    "table with rows and columns, where each column can contain data of different types (e.g., integers, strings, floats, etc.). DataFrames\n",
    "are one of the primary data structures used in Pandas and are suitable for storing and manipulating structured data\n",
    "\n",
    "Here's a more detailed explanation of the differences between a DataFrame and a Series:\n",
    "\n",
    "1. Dimensionality:\n",
    "\n",
    "a.DataFrame: Two-dimensional data structure with rows and columns.\n",
    "b.Series: One-dimensional data structure with a single column of data.\n",
    "\n",
    "2. Data Structure:\n",
    "\n",
    "a.DataFrame: Suitable for storing structured data with multiple columns, where each column can have different data types.\n",
    "b.Series: Typically used for storing a single column of data, such as time series data or a single variable.\n",
    "\n",
    "\n",
    "3. Indexing:\n",
    "\n",
    "a.DataFrame: Has both row and column indices. You can use labels or integer-based indexing to access data in both rows and columns.\n",
    "b.Series: Has a single index for its elements, which can be customized or automatically generated based on the data.\n",
    "\n",
    "\n",
    "Example:\n",
    "    \n",
    "import pandas as pd\n",
    "\n",
    "# Creating a DataFrame\n",
    "data = {\n",
    "    'Name': ['Alice', 'Bob', 'Charlie'],\n",
    "    'Age': [25, 30, 22],\n",
    "    'City': ['New York', 'Los Angeles', 'Chicago']\n",
    "}\n",
    "df = pd.DataFrame(data)\n",
    "\n",
    "# Creating a Series\n",
    "ages = pd.Series([25, 30, 22], name='Age')\n",
    "\n",
    "# Accessing data in a DataFrame\n",
    "print(df['Name'])  # Accessing a specific column\n",
    "print(df.loc[0])   # Accessing a specific row\n",
    "\n",
    "# Accessing data in a Series\n",
    "print(ages)         # Display the entire Series\n",
    "print(ages[1])      # Accessing a specific element in the Series\n"
   ]
  },
  {
   "cell_type": "code",
   "execution_count": null,
   "id": "921bcf5e-0d4d-442b-b053-a35e6333c38e",
   "metadata": {},
   "outputs": [],
   "source": [
    "##Q5\n",
    "\n",
    "Pandas provides a wide range of functions and methods to manipulate data in a DataFrame. Here are some common functions and methods along with examples of when you might use them:\n",
    "\n",
    "1. Selecting Data:\n",
    "    df['column_name']` or `df.column_name`: To select a specific column.\n",
    "    df.loc[row_label]` or `df.iloc[row_index]`: To select specific rows by label or integer index.\n",
    "    Example: `df['Age']` selects the 'Age' column, and `df.loc[0]` selects the first row.\n",
    "\n",
    "2. Filtering Data:\n",
    "   df[df['column_name'] condition]`: To filter rows based on a condition.\n",
    "    Example: `df[df['Age'] > 25]` selects rows where the 'Age' is greater than 25.\n",
    "\n",
    "3. Sorting Data:\n",
    "   df.sort_values(by='column_name')`: To sort the DataFrame by a specific column.\n",
    "   Example: `df.sort_values(by='Age')` sorts the DataFrame by the 'Age' column.\n",
    "\n",
    "4. Grouping Data:\n",
    "   df.groupby('column_name')`: To group data by unique values in a column.\n",
    "   Example: `df.groupby('City')['Age'].mean()` calculates the mean age for each unique 'City' in the DataFrame.\n",
    "\n",
    "5. Aggregating Data:\n",
    "   Functions like `mean()`, `sum()`, `count()`, etc., to perform aggregate calculations on grouped data.\n",
    "   Example: `df.groupby('City')['Age'].mean()` calculates the mean age for each city.\n",
    "\n",
    "6. Merging and Joining Data:\n",
    "   pd.merge(df1, df2, on='key_column')`: To combine two DataFrames based on a common column.\n",
    "   Example: Merging two DataFrames based on a shared 'ID' column.\n",
    "\n",
    "7. Handling Missing Data:\n",
    "   df.isnull()`: Returns a DataFrame of Boolean values indicating missing data.\n",
    "   df.dropna()`: Removes rows or columns with missing data.\n",
    "   df.fillna(value)`: Fills missing values with a specified value.\n",
    "\n",
    "8. Adding and Modifying Columns:\n",
    "   df['new_column'] = value`: Adds a new column or overwrites an existing one.\n",
    "   Example: `df['Salary'] = df['Age'] * 1000` creates a new 'Salary' column.\n",
    "\n",
    "9. Pivoting and Reshaping Data:\n",
    "  df.pivot_table()`: To create pivot tables from long to wide format.\n",
    "  df.melt()`: To reshape data from wide to long format.\n",
    "\n",
    "10. Applying Functions:\n",
    "    df.apply(function)`: Applies a custom function to each row or column.\n",
    "    Example: `df['Age'].apply(lambda x: x * 2)` doubles the values in the 'Age' column.\n"
   ]
  },
  {
   "cell_type": "code",
   "execution_count": null,
   "id": "4997ed48-f23b-4d20-8635-bbcecd0d2bc4",
   "metadata": {},
   "outputs": [],
   "source": [
    "##Q6\n",
    "\n",
    "In Pandas, both Series and DataFrame are mutable, while Panel is deprecated and no longer part of the main Pandas library as of Pandas version 0.25.0 (July 2019). \n",
    "\n",
    "Here's a brief explanation:\n",
    "\n",
    "1. Series: A Pandas Series is mutable, meaning you can change the values of elements in a Series after it has been created. You can assign\n",
    "new values to specific elements in a Series using indexing.\n",
    "\n",
    "2. DataFrame: Similarly, a Pandas DataFrame is mutable as well. You can modify the data in specific cells, add or remove columns, and \n",
    "perform various data manipulation operations on a DataFrame, which may change its contents.\n",
    "\n",
    "3. Panel: The Panel data structure was deprecated in Pandas because it was less commonly used and considered less intuitive compared to \n",
    "Series and DataFrames. It is no longer available as a built-in data structure in Pandas. Instead, multi-indexed DataFrames are often used \n",
    "to handle multi-dimensional data.\n",
    "\n",
    "So, in summary, Series and DataFrames are the primary mutable data structures in Pandas, while Panel is no longer a part of the library.\n"
   ]
  },
  {
   "cell_type": "code",
   "execution_count": 5,
   "id": "bdd2a3df-4e74-4078-b0cf-670c7a7b8411",
   "metadata": {},
   "outputs": [
    {
     "name": "stdout",
     "output_type": "stream",
     "text": [
      "      Name  Age         City\n",
      "0    Alice   25     New York\n",
      "1      Bob   30  Los Angeles\n",
      "2  Charlie   22      Chicago\n"
     ]
    }
   ],
   "source": [
    "##Q7\n",
    "\n",
    "import pandas as pd\n",
    "names = pd.Series(['Alice', 'Bob', 'Charlie'])\n",
    "ages = pd.Series([25, 30, 22])\n",
    "cities = pd.Series(['New York', 'Los Angeles', 'Chicago'])\n",
    "data = {'Name': names, 'Age': ages, 'City': cities}\n",
    "df = pd.DataFrame(data)\n",
    "print(df)\n"
   ]
  },
  {
   "cell_type": "code",
   "execution_count": null,
   "id": "0359511b-0432-4368-a897-b8c1abb84343",
   "metadata": {},
   "outputs": [],
   "source": []
  }
 ],
 "metadata": {
  "kernelspec": {
   "display_name": "Python 3 (ipykernel)",
   "language": "python",
   "name": "python3"
  },
  "language_info": {
   "codemirror_mode": {
    "name": "ipython",
    "version": 3
   },
   "file_extension": ".py",
   "mimetype": "text/x-python",
   "name": "python",
   "nbconvert_exporter": "python",
   "pygments_lexer": "ipython3",
   "version": "3.10.8"
  }
 },
 "nbformat": 4,
 "nbformat_minor": 5
}
