{
 "cells": [
  {
   "cell_type": "markdown",
   "id": "d062be1e-d31b-406d-8692-5117227de5fe",
   "metadata": {},
   "source": [
    "## Q1"
   ]
  },
  {
   "cell_type": "code",
   "execution_count": null,
   "id": "85678038-a456-4e0c-8e12-3d30f628fcb1",
   "metadata": {},
   "outputs": [],
   "source": [
    "Pandas is a popular Python library for data manipulation and analysis. Here are five common functions \n",
    "and their execution examples:\n",
    "\n",
    "1. read_csv(): Used to read data from a CSV file into a DataFrame.\n",
    "\n",
    "import pandas as pd\n",
    "# Read data from a CSV file into a DataFrame\n",
    "df = pd.read_csv('data.csv')\n",
    "\n",
    "\n",
    "2. head(): Displays the first n rows of a DataFrame. By default, it shows the first 5 rows.\n",
    "\n",
    "# Display the first 5 rows of the DataFrame\n",
    "df.head()\n",
    "\n",
    "\n",
    "3. info(): Provides a concise summary of the DataFrame, including data types, non-null values, and memory usage.\n",
    "\n",
    "# Display summary information about the DataFrame\n",
    "df.info()\n",
    "\n",
    "\n",
    "4. describe(): Generates descriptive statistics of the DataFrame, such as count, mean, standard deviation, \n",
    "minimum, and maximum values.\n",
    "\n",
    "# Display descriptive statistics of the DataFrame\n",
    "df.describe()\n",
    "\n",
    "\n",
    "5. groupby(): Used to group data based on one or more columns and perform aggregation operations.\n",
    "\n",
    "# Group data by a column and calculate the mean for each group\n",
    "grouped = df.groupby('Category')['Value'].mean()\n"
   ]
  },
  {
   "cell_type": "markdown",
   "id": "2ede69ac-2be1-4684-8b1c-7dc9027fbe7d",
   "metadata": {},
   "source": [
    "## Q2"
   ]
  },
  {
   "cell_type": "code",
   "execution_count": null,
   "id": "8515df57-6e28-4e9d-92e7-bca32c8b39b7",
   "metadata": {},
   "outputs": [],
   "source": [
    "import pandas as pd\n",
    "\n",
    "def reindex_with_increment(df):\n",
    "    # Create a new index that starts from 1 and increments by 2\n",
    "    new_index = pd.Index(range(1, len(df) * 2, 2))\n",
    "    \n",
    "    # Assign the new index to the DataFrame\n",
    "    df = df.set_index(new_index)\n",
    "    \n",
    "    return df\n",
    "\n",
    "# Sample DataFrame 'df' with columns 'A', 'B', and 'C'\n",
    "data = {'A': [10, 20, 30, 40],\n",
    "        'B': [50, 60, 70, 80],\n",
    "        'C': [90, 100, 110, 120]}\n",
    "df = pd.DataFrame(data)\n",
    "\n",
    "# Call the function to re-index the DataFrame\n",
    "df = reindex_with_increment(df)\n",
    "\n",
    "# Print the re-indexed DataFrame\n",
    "print(df)\n"
   ]
  },
  {
   "cell_type": "markdown",
   "id": "edec9e65-83aa-402f-88a3-aca86a575034",
   "metadata": {},
   "source": [
    "## Q3"
   ]
  },
  {
   "cell_type": "code",
   "execution_count": null,
   "id": "8bbfa289-c051-4eb3-9423-e0d6370efb44",
   "metadata": {},
   "outputs": [],
   "source": [
    "import pandas as pd\n",
    "\n",
    "def calculate_sum_of_first_three_values(df):\n",
    "    values_column = df['Values']   \n",
    "    if len(values_column) >= 3:\n",
    "        first_three_values_sum = values_column.iloc[:3].sum()\n",
    "        print(\"Sum of the first three values:\", first_three_values_sum)\n",
    "    else:\n",
    "        print(\"The 'Values' column does not have at least three values.\")\n",
    "data = {'Values': [10, 20, 30, 40, 50]}\n",
    "df = pd.DataFrame(data)\n",
    "calculate_sum_of_first_three_values(df)\n"
   ]
  },
  {
   "cell_type": "markdown",
   "id": "2b42b8e7-d622-4584-ac06-5e144e25954f",
   "metadata": {},
   "source": [
    "## Q4"
   ]
  },
  {
   "cell_type": "code",
   "execution_count": null,
   "id": "0b341102-bca8-4c03-8962-726dbd55ead7",
   "metadata": {},
   "outputs": [],
   "source": [
    "import pandas as pd\n",
    "def add_word_count_column(df):   \n",
    "    df['Word_Count'] = df['Text'].apply(lambda text: len(text.split()))\n",
    "data = {'Text': [\"This is a sample sentence.\", \"Pandas is a powerful library.\", \"Word count in Python is fun!\"]}\n",
    "df = pd.DataFrame(data)\n",
    "add_word_count_column(df)\n",
    "print(df)\n"
   ]
  },
  {
   "cell_type": "markdown",
   "id": "ea1b2816-4231-40b3-b126-fd88cb6322cd",
   "metadata": {},
   "source": [
    "## Q5"
   ]
  },
  {
   "cell_type": "code",
   "execution_count": null,
   "id": "ef6f3804-e322-4d16-b45c-4c959e42f927",
   "metadata": {},
   "outputs": [],
   "source": [
    "1. DataFrame.size:\n",
    "\n",
    "i.  DataFrame.size returns the total number of elements in the DataFrame, which is equivalent to the product \n",
    "    of the number of rows and the number of columns.\n",
    "ii. It provides a single integer value representing the total size of the DataFrame.\n",
    "\n",
    "Example:-\n",
    "import pandas as pd\n",
    "data = {'A': [1, 2, 3], 'B': [4, 5, 6]}\n",
    "df = pd.DataFrame(data)\n",
    "size = df.size  # size = 6 (3 rows * 2 columns)\n",
    "\n",
    "\n",
    "\n",
    "2. DataFrame.shape:\n",
    "\n",
    "i.  DataFrame.shape returns a tuple representing the dimensions of the DataFrame. The tuple has two elements:\n",
    "    the number of rows and the number of columns, respectively.\n",
    "ii. It provides a more detailed view of the DataFrame's structure.\n",
    "\n",
    "Example:- \n",
    "import pandas as pd\n",
    "data = {'A': [1, 2, 3], 'B': [4, 5, 6]}\n",
    "df = pd.DataFrame(data)\n",
    "shape = df.shape  # shape = (3, 2) (3 rows and 2 columns)\n"
   ]
  },
  {
   "cell_type": "markdown",
   "id": "0d06c855-c651-49df-9fa5-194731e97e7b",
   "metadata": {},
   "source": [
    "## Q6"
   ]
  },
  {
   "cell_type": "code",
   "execution_count": null,
   "id": "3c2eb924-e5b8-427e-ac96-ad28fcf21f8f",
   "metadata": {},
   "outputs": [],
   "source": [
    "To read an Excel file in Pandas, we can use the read_excel()."
   ]
  },
  {
   "cell_type": "markdown",
   "id": "8c2bd35d-9bb3-49f2-95ac-1088e26102d6",
   "metadata": {},
   "source": [
    "## Q7"
   ]
  },
  {
   "cell_type": "code",
   "execution_count": null,
   "id": "bd6b6af9-2260-44f5-8433-76e30ef77dde",
   "metadata": {},
   "outputs": [],
   "source": [
    "import pandas as pd\n",
    "\n",
    "def extract_username_from_email(df):    \n",
    "    df['Username'] = df['Email'].apply(lambda email: email.split('@')[0])\n",
    "data = {'Email': ['john.doe@example.com', 'jane.smith@example.com', 'bob.johnson@example.com']}\n",
    "df = pd.DataFrame(data)\n",
    "extract_username_from_email(df)\n",
    "print(df)\n",
    "\n"
   ]
  },
  {
   "cell_type": "markdown",
   "id": "9e8107f4-b961-4d97-ab8a-4d28b187d9ef",
   "metadata": {},
   "source": [
    "## Q8"
   ]
  },
  {
   "cell_type": "code",
   "execution_count": null,
   "id": "893b68f9-8897-4a6a-9a8c-7cd95e994981",
   "metadata": {},
   "outputs": [],
   "source": [
    "import pandas as pd\n",
    "\n",
    "def select_rows(df):  \n",
    "    condition = (df['A'] > 5) & (df['B'] < 10) \n",
    "    selected_rows = df[condition]\n",
    "    return selected_rows\n",
    "data = {'A': [2, 7, 8, 3, 6],\n",
    "        'B': [4, 5, 9, 12, 2],\n",
    "        'C': [10, 20, 30, 40, 50]}\n",
    "df = pd.DataFrame(data)\n",
    "selected_df = select_rows(df)\n",
    "print(selected_df)\n"
   ]
  },
  {
   "cell_type": "markdown",
   "id": "6321e6dd-633d-4d5f-b5a9-44c4245c124d",
   "metadata": {},
   "source": [
    "## Q9"
   ]
  },
  {
   "cell_type": "code",
   "execution_count": null,
   "id": "af1d046e-969a-4513-981d-bf0d859116a7",
   "metadata": {},
   "outputs": [],
   "source": [
    "import pandas as pd\n",
    "\n",
    "def calculate_stats(df):\n",
    "    mean_value = df['Values'].mean()\n",
    "    median_value = df['Values'].median()\n",
    "    std_deviation = df['Values'].std()\n",
    "    \n",
    "    return mean_value, median_value, std_deviation\n",
    "data = {'Values': [10, 20, 30, 40, 50]}\n",
    "df = pd.DataFrame(data)\n",
    "mean, median, std = calculate_stats(df)\n",
    "print(f\"Mean: {mean}\")\n",
    "print(f\"Median: {median}\")\n",
    "print(f\"Standard Deviation: {std}\")\n"
   ]
  },
  {
   "cell_type": "markdown",
   "id": "3865f798-07c7-4d7e-a0a0-120c806be843",
   "metadata": {},
   "source": [
    "## Q10"
   ]
  },
  {
   "cell_type": "code",
   "execution_count": null,
   "id": "1a50c8d4-f422-4c7c-a4a6-95a94598f851",
   "metadata": {},
   "outputs": [],
   "source": [
    "import pandas as pd\n",
    "\n",
    "def calculate_moving_average(df, window_size=7):\n",
    "    df = df.sort_values('Date')\n",
    "    df['MovingAverage'] = df['Sales'].rolling(window=window_size, min_periods=1).mean()    \n",
    "    return df\n",
    "data = {'Sales': [10, 15, 20, 25, 30, 35, 40, 45, 50],\n",
    "        'Date': pd.date_range(start='2023-10-01', periods=9, freq='D')}\n",
    "df = pd.DataFrame(data)\n",
    "df = calculate_moving_average(df)\n",
    "print(df)\n"
   ]
  },
  {
   "cell_type": "markdown",
   "id": "5df596a7-602a-471f-a7be-02ccf1d6a702",
   "metadata": {},
   "source": [
    "## Q11"
   ]
  },
  {
   "cell_type": "code",
   "execution_count": null,
   "id": "6a12f725-9cfd-4066-8f50-4c9d265399be",
   "metadata": {},
   "outputs": [],
   "source": [
    "import pandas as pd\n",
    "\n",
    "def add_weekday_column(df):\n",
    "    df['Date'] = pd.to_datetime(df['Date'])\n",
    "    df['Weekday'] = df['Date'].dt.day_name()  \n",
    "    return df\n",
    "data = {'Date': ['2023-01-01', '2023-01-02', '2023-01-03', '2023-01-04', '2023-01-05']}\n",
    "df = pd.DataFrame(data)\n",
    "df = add_weekday_column(df)\n",
    "print(df)\n"
   ]
  },
  {
   "cell_type": "markdown",
   "id": "67d1c2f1-237d-4e0f-96af-367363b4ea25",
   "metadata": {},
   "source": [
    "## Q12"
   ]
  },
  {
   "cell_type": "code",
   "execution_count": null,
   "id": "9acc562e-085e-480d-934c-4841488d02e6",
   "metadata": {},
   "outputs": [],
   "source": [
    "import pandas as pd\n",
    "\n",
    "def select_rows_in_date_range(df, start_date, end_date):\n",
    "    df['Date'] = pd.to_datetime(df['Date'])\n",
    "    condition = (df['Date'] >= start_date) & (df['Date'] <= end_date)\n",
    "    selected_rows = df[condition]\n",
    "    \n",
    "    return selected_rows\n",
    "data = {'Date': ['2023-01-05', '2023-01-15', '2023-02-10', '2023-01-25', '2023-03-01']}\n",
    "df = pd.DataFrame(data)\n",
    "start_date = '2023-01-01'\n",
    "end_date = '2023-01-31'\n",
    "selected_df = select_rows_in_date_range(df, start_date, end_date)\n",
    "\n",
    "print(selected_df)\n"
   ]
  },
  {
   "cell_type": "markdown",
   "id": "8ccd609d-4854-430a-b347-e03190825731",
   "metadata": {},
   "source": [
    "## Q13"
   ]
  },
  {
   "cell_type": "code",
   "execution_count": null,
   "id": "52d06491-fbe2-43d3-91f1-114d4f6cebc8",
   "metadata": {},
   "outputs": [],
   "source": [
    "import pandas as pd"
   ]
  }
 ],
 "metadata": {
  "kernelspec": {
   "display_name": "Python 3 (ipykernel)",
   "language": "python",
   "name": "python3"
  },
  "language_info": {
   "codemirror_mode": {
    "name": "ipython",
    "version": 3
   },
   "file_extension": ".py",
   "mimetype": "text/x-python",
   "name": "python",
   "nbconvert_exporter": "python",
   "pygments_lexer": "ipython3",
   "version": "3.10.8"
  }
 },
 "nbformat": 4,
 "nbformat_minor": 5
}
