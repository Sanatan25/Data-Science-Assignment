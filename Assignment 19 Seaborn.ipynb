{
 "cells": [
  {
   "cell_type": "markdown",
   "id": "497a3fc9-fb5b-4e56-b053-44f385411885",
   "metadata": {},
   "source": [
    "# Q1"
   ]
  },
  {
   "cell_type": "code",
   "execution_count": null,
   "id": "fe8c3f4d-10fe-4923-95c5-301cf031f57b",
   "metadata": {},
   "outputs": [],
   "source": [
    "1. Scatter Plot (sns.scatterplot()):\n",
    "\n",
    "Use Case: Scatter plots are useful for visualizing the relationship between two continuous variables.\n",
    "They help identify patterns, trends, and outliers in the data.\n",
    "\n",
    "import seaborn as sns\n",
    "import matplotlib.pyplot as plt\n",
    "\n",
    "# Example usage\n",
    "sns.scatterplot(x='x_variable', y='y_variable', data=df)\n",
    "plt.show()\n",
    "\n",
    "\n",
    "2. Histogram (sns.histplot()):\n",
    "\n",
    "Use Case: Histograms are used to visualize the distribution of a single numerical variable. \n",
    "They show the frequency or count of observations within different intervals (bins).\n",
    "\n",
    "import seaborn as sns\n",
    "import matplotlib.pyplot as plt\n",
    "\n",
    "# Example usage\n",
    "sns.histplot(x='numeric_variable', data=df, bins=30)\n",
    "plt.show()\n",
    "\n",
    "\n",
    "3. Box Plot (sns.boxplot()):\n",
    "\n",
    "Use Case: Box plots (box-and-whisker plots) are helpful for visualizing the distribution and\n",
    "spread of a numerical variable, particularly in comparing multiple categories or groups.\n",
    "\n",
    "import seaborn as sns\n",
    "import matplotlib.pyplot as plt\n",
    "\n",
    "# Example usage\n",
    "sns.boxplot(x='category_variable', y='numeric_variable', data=df)\n",
    "plt.show()\n",
    "\n",
    "\n",
    "4.Heatmap (sns.heatmap()):\n",
    "\n",
    "Use Case: Heatmaps are useful for visualizing the relationships between two categorical variables.\n",
    "They are commonly used to represent correlation matrices or to show the occurrence of events across two\n",
    "dimensions.\n",
    "\n",
    "import seaborn as sns\n",
    "import matplotlib.pyplot as plt\n",
    "\n",
    "# Example usage\n",
    "correlation_matrix = df.corr()\n",
    "sns.heatmap(correlation_matrix, annot=True, cmap='coolwarm')\n",
    "plt.show()\n",
    "\n",
    "\n",
    "5. Pair Plot (sns.pairplot()):\n",
    "\n",
    "Use Case: Pair plots are used for exploring relationships between multiple numerical variables in a dataset.\n",
    "They create scatter plots for all possible pairs of variables and histograms for the variables along the diagonal.\n",
    "\n",
    "import seaborn as sns\n",
    "import matplotlib.pyplot as plt\n",
    "\n",
    "# Example usage\n",
    "sns.pairplot(df)\n",
    "plt.show()\n"
   ]
  },
  {
   "cell_type": "markdown",
   "id": "0d084b57-3dd1-4c21-898b-d2bd59cb3ffd",
   "metadata": {},
   "source": [
    "# Q2"
   ]
  },
  {
   "cell_type": "code",
   "execution_count": null,
   "id": "265a1ad4-ee02-425e-9b1a-9d39d5a81ebb",
   "metadata": {},
   "outputs": [],
   "source": [
    "import seaborn as sns\n",
    "import matplotlib.pyplot as plt\n",
    "\n",
    "# Load the \"fmri\" dataset from Seaborn\n",
    "fmri_data = sns.load_dataset(\"fmri\")\n",
    "\n",
    "# Plot a line plot\n",
    "sns.set(style=\"darkgrid\")\n",
    "plt.figure(figsize=(10, 6))\n",
    "\n",
    "sns.lineplot(x=\"timepoint\", y=\"signal\", hue=\"event\", style=\"region\", data=fmri_data)\n",
    "\n",
    "plt.title(\"Line Plot of fmri Dataset\")\n",
    "plt.xlabel(\"Timepoint\")\n",
    "plt.ylabel(\"Signal\")\n",
    "plt.legend(title=\"Event\")\n",
    "plt.show()"
   ]
  },
  {
   "cell_type": "markdown",
   "id": "1ac1a5ac-4e7b-4ac4-a09d-cdee4e8e104f",
   "metadata": {},
   "source": [
    "# Q3"
   ]
  },
  {
   "cell_type": "code",
   "execution_count": null,
   "id": "9378133e-8e84-4653-acb3-7a410a7166a3",
   "metadata": {},
   "outputs": [],
   "source": [
    "import seaborn as sns\n",
    "import matplotlib.pyplot as plt\n",
    "\n",
    "# Load the \"titanic\" dataset from Seaborn\n",
    "titanic_data = sns.load_dataset(\"titanic\")\n",
    "\n",
    "# Plot two box plots\n",
    "sns.set(style=\"whitegrid\")\n",
    "plt.figure(figsize=(12, 6))\n",
    "\n",
    "# Box plot for 'age'\n",
    "plt.subplot(1, 2, 1)\n",
    "sns.boxplot(x='pclass', y='age', data=titanic_data)\n",
    "plt.title('Box Plot of Age by Pclass')\n",
    "\n",
    "# Box plot for 'fare'\n",
    "plt.subplot(1, 2, 2)\n",
    "sns.boxplot(x='pclass', y='fare', data=titanic_data)\n",
    "plt.title('Box Plot of Fare by Pclass')\n",
    "\n",
    "plt.show()"
   ]
  },
  {
   "cell_type": "markdown",
   "id": "653a9ad8-acfe-44fb-b63d-1fce03d54206",
   "metadata": {},
   "source": [
    "# Q4"
   ]
  },
  {
   "cell_type": "code",
   "execution_count": null,
   "id": "5bbd164a-b6b5-4b22-8018-99582266dd5b",
   "metadata": {},
   "outputs": [],
   "source": [
    "import seaborn as sns\n",
    "import matplotlib.pyplot as plt\n",
    "\n",
    "# Load the \"diamonds\" dataset from Seaborn\n",
    "diamonds_data = sns.load_dataset(\"diamonds\")\n",
    "\n",
    "# Plot a histogram with hue for the 'cut' column\n",
    "sns.set(style=\"whitegrid\")\n",
    "plt.figure(figsize=(10, 6))\n",
    "\n",
    "sns.histplot(data=diamonds_data, x='price', hue='cut', multiple=\"stack\", bins=30)\n",
    "\n",
    "plt.title(\"Histogram of Price with Cut Distribution\")\n",
    "plt.xlabel(\"Price\")\n",
    "plt.ylabel(\"Count\")\n",
    "plt.legend(title=\"Cut\")\n",
    "plt.show()"
   ]
  },
  {
   "cell_type": "markdown",
   "id": "d461cbde-33a7-4845-9b89-f720887c9808",
   "metadata": {},
   "source": [
    "# Q5"
   ]
  },
  {
   "cell_type": "code",
   "execution_count": null,
   "id": "4680b83d-8a98-4778-b61c-a945e3a5f370",
   "metadata": {},
   "outputs": [],
   "source": []
  }
 ],
 "metadata": {
  "kernelspec": {
   "display_name": "Python 3 (ipykernel)",
   "language": "python",
   "name": "python3"
  },
  "language_info": {
   "codemirror_mode": {
    "name": "ipython",
    "version": 3
   },
   "file_extension": ".py",
   "mimetype": "text/x-python",
   "name": "python",
   "nbconvert_exporter": "python",
   "pygments_lexer": "ipython3",
   "version": "3.10.8"
  }
 },
 "nbformat": 4,
 "nbformat_minor": 5
}
