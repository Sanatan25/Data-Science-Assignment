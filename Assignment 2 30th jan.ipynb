{
 "cells": [
  {
   "cell_type": "code",
   "execution_count": 10,
   "id": "34baf253-1adf-46b7-8314-5f9c00741fd6",
   "metadata": {},
   "outputs": [
    {
     "name": "stdin",
     "output_type": "stream",
     "text": [
      "Enter the percentage 80\n"
     ]
    },
    {
     "name": "stdout",
     "output_type": "stream",
     "text": [
      "Grade C\n"
     ]
    }
   ],
   "source": [
    "##Q1\n",
    "percentage = int(input(\"Enter the percentage\"))\n",
    "if(percentage > 90):\n",
    "    print(\"Grade A\")\n",
    "elif(percentage >80 and percentage <= 90):\n",
    "    print(\"Grade B\")\n",
    "elif(percentage >= 60 and percentage <= 80):\n",
    "    print(\"Grade C\")\n",
    "else:\n",
    "    print(\"grade D\")"
   ]
  },
  {
   "cell_type": "code",
   "execution_count": 11,
   "id": "6d826cd2-f933-49c7-8805-698b8a4801af",
   "metadata": {},
   "outputs": [
    {
     "name": "stdin",
     "output_type": "stream",
     "text": [
      "Enter the price of the bike 200000\n"
     ]
    },
    {
     "name": "stdout",
     "output_type": "stream",
     "text": [
      "You have to pay 15% tax\n"
     ]
    }
   ],
   "source": [
    "##Q2\n",
    "price = int(input('Enter the price of the bike'))\n",
    "\n",
    "if(price > 100000):\n",
    "    print(\"You have to pay 15% tax\")\n",
    "elif(price > 50000 and price <= 100000):\n",
    "    print(\"You have to pay 10% tax\")\n",
    "else:\n",
    "    print(\"You have to pay 5% tax\")"
   ]
  },
  {
   "cell_type": "code",
   "execution_count": 13,
   "id": "79f4055b-23d5-4858-8e87-bb728e9a802d",
   "metadata": {},
   "outputs": [
    {
     "name": "stdin",
     "output_type": "stream",
     "text": [
      "Enter the city name delhi\n"
     ]
    },
    {
     "name": "stdout",
     "output_type": "stream",
     "text": [
      "Monuments of this is Red Fort\n"
     ]
    }
   ],
   "source": [
    "##Q3\n",
    "city = input(\"Enter the city name\")\n",
    "if(city == \"delhi\"):\n",
    "    print(\"Monuments of this is Red Fort\")\n",
    "elif(city == \"agra\"):\n",
    "    print(\"Monuments of this is Taj Mahal\")\n",
    "elif(city == \"jaipur\"):\n",
    "    print(\"Monuments of this is Jal Mahal\")\n",
    "else:\n",
    "    print(\"Wrong input\")"
   ]
  },
  {
   "cell_type": "code",
   "execution_count": 3,
   "id": "8e47ae1d-58a5-4f24-97bc-72bd393d919a",
   "metadata": {},
   "outputs": [
    {
     "name": "stdin",
     "output_type": "stream",
     "text": [
      "Enter the number 10\n"
     ]
    },
    {
     "name": "stdout",
     "output_type": "stream",
     "text": [
      "0\n"
     ]
    }
   ],
   "source": [
    "##Q4\n",
    "number = int(input(\"Enter the number\"))\n",
    "count = 0\n",
    "while number > 10:\n",
    "    number /= 3\n",
    "    count += 1\n",
    "print(count)"
   ]
  },
  {
   "cell_type": "code",
   "execution_count": null,
   "id": "503179d6-5e84-4991-94fc-2e4a1f698cb0",
   "metadata": {},
   "outputs": [],
   "source": [
    "##Q4\n",
    "def count_divisions_by_3(number):\n",
    "    count = 0\n",
    "    while number > 10:\n",
    "        number /= 3\n",
    "        count += 1\n",
    "    return count\n",
    "\n",
    "given_number = int(input(\"Enter the number: \"))\n",
    "\n",
    "result = count_divisions_by_3(given_number)\n",
    "\n",
    "print(f\"The number can be divided by 3 {result} times before it is less than or equal to 10.\")\n"
   ]
  },
  {
   "cell_type": "code",
   "execution_count": null,
   "id": "f2e5a5bc-88f6-48e8-96b9-040b2b934249",
   "metadata": {},
   "outputs": [],
   "source": [
    "##Q5\n",
    "A while loop in Python is used to repeatedly execute a block of code as long as a specific condition remains true. The loop continues to iterate until the condition evaluates to False. It is generally used when the number of iterations is not fixed and depends on some condition that can change during the execution of the loop.\n",
    "\n",
    "Example 1: Counting from 1 to 5\n",
    "count = 1\n",
    "while count <= 5:\n",
    "    print(count)\n",
    "    count += 1\n"
   ]
  },
  {
   "cell_type": "code",
   "execution_count": null,
   "id": "183d5f0a-5883-4dc4-87f1-4d089614bfed",
   "metadata": {},
   "outputs": [],
   "source": [
    "##Q6\n",
    "Pattern 1: Right Triangle Pattern\n",
    "*\n",
    "* *\n",
    "* * *\n",
    "* * * *\n",
    "* * * * *\n",
    "\n",
    "# Pattern 1: Right Triangle Pattern\n",
    "n = 5\n",
    "i = 1\n",
    "while i <= n:\n",
    "    j = 1\n",
    "    while j <= i:\n",
    "        print(\"* \", end=\"\")\n",
    "        j += 1\n",
    "    print()\n",
    "    i += 1\n",
    "\n",
    "    \n",
    "    \n",
    "Pattern 2: Hollow Square Pattern\n",
    "*****\n",
    "*   *\n",
    "*   *\n",
    "*   *\n",
    "*****\n",
    "\n",
    "# Pattern 2: Hollow Square Pattern\n",
    "n = 5\n",
    "i = 1\n",
    "while i <= n:\n",
    "    j = 1\n",
    "    while j <= n:\n",
    "        if i == 1 or i == n or j == 1 or j == n:\n",
    "            print(\"*\", end=\"\")\n",
    "        else:\n",
    "            print(\" \", end=\"\")\n",
    "        j += 1\n",
    "    print()\n",
    "    i += 1\n",
    "\n",
    "    \n",
    "    \n",
    "    \n",
    "    \n",
    "Pattern 3: Number Pyramid Pattern\n",
    "    1\n",
    "   2 2\n",
    "  3 3 3\n",
    " 4 4 4 4\n",
    "5 5 5 5 5\n",
    "\n",
    "\n",
    "# Pattern 3: Number Pyramid Pattern\n",
    "n = 5\n",
    "i = 1\n",
    "while i <= n:\n",
    "    # Printing spaces\n",
    "    j = 1\n",
    "    while j <= n - i:\n",
    "        print(\" \", end=\"\")\n",
    "        j += 1\n",
    "\n",
    "    # Printing numbers\n",
    "    j = 1\n",
    "    while j <= i:\n",
    "        print(i, end=\" \")\n",
    "        j += 1\n",
    "\n",
    "    print()\n",
    "    i += 1\n"
   ]
  },
  {
   "cell_type": "code",
   "execution_count": null,
   "id": "99d5635d-9440-42bf-86a4-65858c3cb3c8",
   "metadata": {},
   "outputs": [],
   "source": [
    "##Q7\n",
    "i = 10\n",
    "while i >= 1:\n",
    "    print(i)\n",
    "    i -= 1\n"
   ]
  },
  {
   "cell_type": "code",
   "execution_count": null,
   "id": "c750cc7f-9743-48e1-a30f-dd1f14725448",
   "metadata": {},
   "outputs": [],
   "source": [
    "##Q8\n",
    "i = 10\n",
    "while i >= 1:\n",
    "    print(i)\n",
    "    i -= 1\n"
   ]
  }
 ],
 "metadata": {
  "kernelspec": {
   "display_name": "Python 3 (ipykernel)",
   "language": "python",
   "name": "python3"
  },
  "language_info": {
   "codemirror_mode": {
    "name": "ipython",
    "version": 3
   },
   "file_extension": ".py",
   "mimetype": "text/x-python",
   "name": "python",
   "nbconvert_exporter": "python",
   "pygments_lexer": "ipython3",
   "version": "3.10.8"
  }
 },
 "nbformat": 4,
 "nbformat_minor": 5
}
