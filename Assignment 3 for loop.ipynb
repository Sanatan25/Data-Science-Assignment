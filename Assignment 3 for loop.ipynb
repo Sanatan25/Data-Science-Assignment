{
 "cells": [
  {
   "cell_type": "code",
   "execution_count": null,
   "id": "f24d1a8d-4596-4af5-ba6a-dd21fc84bd64",
   "metadata": {},
   "outputs": [],
   "source": [
    "##Q1\n",
    "A ‘for loop‘ is used to iterate over a sequence of items, such as a Python tuple, list, string, or range. The loop will execute a block of statements for each item in the sequence.\n",
    "\n",
    "Example:- \n",
    "s = ['pen', 'notebook','pencil', 'lunch box']\n",
    "for i in s:\n",
    "    print(i)\n",
    "    \n",
    "A while loop is used to repeatedly execute a block of statements while a condition is true. The loop will continue to run as long as the condition remaA while loop ins true.\n",
    "\n",
    "Example:-\n",
    "items = ['pen', 'notebook','pencil', 'lunch box']\n",
    "index = 0\n",
    "items_len = len(items)\n",
    "while index<items_len:\n",
    "  print(items[index])\n",
    "  index = index+1\n",
    "\n",
    "\n",
    "        "
   ]
  },
  {
   "cell_type": "code",
   "execution_count": null,
   "id": "ea722513-a01f-4ea9-9d4f-75944165e6f8",
   "metadata": {},
   "outputs": [],
   "source": [
    "##Q2\n",
    "Using for Loop\n",
    "\n",
    "number = [1,2,3,4,5,6,7,8,9,10]\n",
    "total = 0\n",
    "for i in number:\n",
    "    total += i\n",
    "print(total)\n",
    "\n",
    "Using while loop\n",
    "\n",
    "number = input(\"Enter yhe number\")\n",
    "total = 0\n",
    "while number != o:\n",
    "    total+=number\n",
    "    num-= 1\n",
    "print(total)\n",
    "    "
   ]
  },
  {
   "cell_type": "code",
   "execution_count": null,
   "id": "af1a25ed-ebc0-4ca0-b169-75c4efe17ce5",
   "metadata": {},
   "outputs": [],
   "source": [
    "##Q3\n",
    "bill = input(\"Enter the unit\")\n",
    "total_bill = 0\n",
    "\n",
    "if units <= 100:\n",
    "        total_bill = units * 4.5\n",
    "    elif units <= 200:\n",
    "        total_bill = 100 * 4.5 + (units - 100) * 6\n",
    "    elif units <= 300:\n",
    "        total_bill = 100 * 4.5 + 100 * 6 + (units - 200) * 10\n",
    "    else:\n",
    "        total_bill = 100 * 4.5 + 100 * 6 + 100 * 10 + (units - 300) * 20\n",
    "\n",
    "print(total_bill)\n"
   ]
  },
  {
   "cell_type": "code",
   "execution_count": 1,
   "id": "fea8a221-a9eb-4178-a7cb-c8138f5fa453",
   "metadata": {},
   "outputs": [
    {
     "name": "stdout",
     "output_type": "stream",
     "text": [
      "[10, 20, 30, 40, 50, 60, 70, 80, 90, 100]\n"
     ]
    }
   ],
   "source": [
    "##Q4\n",
    "number = list(range(1,101))\n",
    "cube_div45 = []\n",
    "\n",
    "for i in number:\n",
    "    cube= i**3\n",
    "    if cube % 4 == 0 and cube % 5 == 0:\n",
    "        cube_div45.append(i)\n",
    "        \n",
    "print(cube_div45)"
   ]
  },
  {
   "cell_type": "code",
   "execution_count": null,
   "id": "5ab2a2d6-6160-4229-92dd-9f30741fcce5",
   "metadata": {},
   "outputs": [],
   "source": [
    "##Q5\n",
    "def count_vowels(input_string):\n",
    "    vowels = \"aeiouAEIOU\"\n",
    "    vowel_count = 0\n",
    "\n",
    "    for char in input_string:\n",
    "        if char in vowels:\n",
    "            vowel_count += 1\n",
    "\n",
    "    return vowel_count\n",
    "\n",
    "string = \"I want to become a data scientist\"\n",
    "result = count_vowels(string)\n",
    "print(\"Number of vowels in the string:\", result)"
   ]
  }
 ],
 "metadata": {
  "kernelspec": {
   "display_name": "Python 3 (ipykernel)",
   "language": "python",
   "name": "python3"
  },
  "language_info": {
   "codemirror_mode": {
    "name": "ipython",
    "version": 3
   },
   "file_extension": ".py",
   "mimetype": "text/x-python",
   "name": "python",
   "nbconvert_exporter": "python",
   "pygments_lexer": "ipython3",
   "version": "3.10.8"
  }
 },
 "nbformat": 4,
 "nbformat_minor": 5
}
