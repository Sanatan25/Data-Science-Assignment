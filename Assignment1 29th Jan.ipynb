{
 "cells": [
  {
   "cell_type": "code",
   "execution_count": 1,
   "id": "f0d24aa7-2885-48a0-b265-6633f9a6575d",
   "metadata": {},
   "outputs": [],
   "source": [
    "Q1 = \"Guido van Rossum\""
   ]
  },
  {
   "cell_type": "code",
   "execution_count": 2,
   "id": "96e258ec-e40a-43c8-abd9-7637d3fb93bb",
   "metadata": {},
   "outputs": [],
   "source": [
    "Q2 = \" Object-oriented programming and structured programming\""
   ]
  },
  {
   "cell_type": "code",
   "execution_count": 3,
   "id": "78cdfbe4-9277-4e22-b6db-f8e521861888",
   "metadata": {},
   "outputs": [],
   "source": [
    "Q3 = \"Yes\""
   ]
  },
  {
   "cell_type": "code",
   "execution_count": 4,
   "id": "a8ab5bec-7bcb-4c11-9cb0-c4116073dc5c",
   "metadata": {},
   "outputs": [],
   "source": [
    "Q4 = \" . py, . pyi, . pyc, \""
   ]
  },
  {
   "cell_type": "code",
   "execution_count": 5,
   "id": "7c70e3a4-f98c-451a-a955-65a4dcbd41f6",
   "metadata": {},
   "outputs": [],
   "source": [
    "Q5 = \"Python is both compiled as well as an interpreted language\""
   ]
  },
  {
   "cell_type": "code",
   "execution_count": 6,
   "id": "8367e831-ef41-446b-a249-a9081fe4cbf0",
   "metadata": {},
   "outputs": [],
   "source": [
    "Q6 = \" a module, a function body, and a class definition.\""
   ]
  },
  {
   "cell_type": "code",
   "execution_count": 7,
   "id": "b4aac718-0b34-4543-9b6d-bcf86bcbc6cf",
   "metadata": {},
   "outputs": [],
   "source": [
    "Q7 = \" by adding a single # character \""
   ]
  },
  {
   "cell_type": "code",
   "execution_count": 8,
   "id": "53a11ccd-0aaa-4b8b-877e-b2f7e37d865f",
   "metadata": {},
   "outputs": [],
   "source": [
    "Q8 = \"The function sys. version can help us to find the version of python that we are currently working on\""
   ]
  },
  {
   "cell_type": "code",
   "execution_count": 9,
   "id": "5b173cc1-a61f-42c4-8892-e2b1f345ca56",
   "metadata": {},
   "outputs": [],
   "source": [
    "Q9 = \"lambda\""
   ]
  },
  {
   "cell_type": "code",
   "execution_count": 10,
   "id": "1bad229d-d441-47bd-b026-6444febf3d7b",
   "metadata": {},
   "outputs": [],
   "source": [
    "Q10 = \"Preferred Installer Program\""
   ]
  },
  {
   "cell_type": "code",
   "execution_count": 11,
   "id": "211eb972-a756-43f9-84b2-49a84396bab5",
   "metadata": {},
   "outputs": [],
   "source": [
    "Q11 = \"print( ) function ,type( ) function,input( ) function,abs( ) function,pow( ) function,dir( ) function,sorted( ) function,max( ) function.\""
   ]
  },
  {
   "cell_type": "code",
   "execution_count": 12,
   "id": "b5ccc365-7e85-4acf-bc6d-8b852f406a8d",
   "metadata": {},
   "outputs": [],
   "source": [
    "Q12 = \"79 characters\""
   ]
  },
  {
   "cell_type": "code",
   "execution_count": 13,
   "id": "7525d374-5341-426d-81e1-34b427a9518f",
   "metadata": {},
   "outputs": [],
   "source": [
    "Q13 = \"Presence of third-party modules,,Extensive support libraries(NumPy for numerical calculations, Pandas for data analytics, etc.),Open source and large active community base.,Versatile, Easy to read, learn and write.,User-friendly data structures.,High-level language.\""
   ]
  },
  {
   "cell_type": "code",
   "execution_count": 14,
   "id": "2ae8b467-efb7-4e5c-86c6-f162e0546e60",
   "metadata": {},
   "outputs": [],
   "source": [
    "Q14 = \"256 KiB\""
   ]
  },
  {
   "cell_type": "code",
   "execution_count": 15,
   "id": "df12bb51-0c21-4f41-99a1-9edb9c2a0644",
   "metadata": {},
   "outputs": [],
   "source": [
    "Q15 = \"Right-clicking This PC and going to Properties,,Clicking on the Advanced system settings in the menu on the left.,Clicking on the Environment Variables button o​n the bottom right.,In the System variables section, selecting the Path variable and clicking on Edit.\""
   ]
  },
  {
   "cell_type": "code",
   "execution_count": null,
   "id": "b111c4fc-7cf6-4b78-96fe-d3c678d5fd51",
   "metadata": {},
   "outputs": [],
   "source": [
    "Q16 = \"ndentation is mandatory in python to define the blocks of statements\""
   ]
  }
 ],
 "metadata": {
  "kernelspec": {
   "display_name": "Python 3 (ipykernel)",
   "language": "python",
   "name": "python3"
  },
  "language_info": {
   "codemirror_mode": {
    "name": "ipython",
    "version": 3
   },
   "file_extension": ".py",
   "mimetype": "text/x-python",
   "name": "python",
   "nbconvert_exporter": "python",
   "pygments_lexer": "ipython3",
   "version": "3.10.8"
  }
 },
 "nbformat": 4,
 "nbformat_minor": 5
}
