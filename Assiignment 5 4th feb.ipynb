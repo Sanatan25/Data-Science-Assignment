{
 "cells": [
  {
   "cell_type": "code",
   "execution_count": null,
   "id": "777d3da3-96e2-488e-aeba-1d707a9c2a69",
   "metadata": {},
   "outputs": [],
   "source": [
    "##Q1\n",
    "data = [('Sachin Tendulkar', 34357), ('Ricky Ponting', 27483), ('Jack Kallis', 25534), ('Virat Kohli', 24936)]\n",
    "\n",
    "sorted_data = sorted(data, key=lambda x: x[1])\n",
    "\n",
    "for player, runs in sorted_data:\n",
    "    print(f\"{player}: {runs}\")\n"
   ]
  },
  {
   "cell_type": "code",
   "execution_count": null,
   "id": "b71bbc97-717c-43e6-9401-f39cb2d496f7",
   "metadata": {},
   "outputs": [],
   "source": [
    "##Q2\n",
    "numbers = [1, 2, 3, 4, 5, 6, 7, 8, 9, 10]\n",
    "\n",
    "squares = map(lambda x: x ** 2, numbers)\n",
    "\n",
    "print(list(squares))\n"
   ]
  },
  {
   "cell_type": "code",
   "execution_count": null,
   "id": "9178052b-f648-464d-8bfa-90532e46e8be",
   "metadata": {},
   "outputs": [],
   "source": [
    "##Q3\n",
    "numbers = [1, 2, 3, 4, 5, 6, 7, 8, 9, 10]\n",
    "\n",
    "string_tuple = tuple(map(lambda x: str(x), numbers))\n",
    "\n",
    "print(string_tuple)\n"
   ]
  },
  {
   "cell_type": "code",
   "execution_count": null,
   "id": "200a125d-4ca0-485d-b242-a21cdfa56d9e",
   "metadata": {},
   "outputs": [],
   "source": [
    "##Q4\n",
    "\n",
    "def multiply(x, y):\n",
    "    return x * y\n",
    "\n",
    "numbers = list(range(1, 26))\n",
    "product = reduce(multiply, numbers)\n",
    "\n",
    "print(product)\n"
   ]
  },
  {
   "cell_type": "code",
   "execution_count": null,
   "id": "8010509e-475c-4670-979f-fbda75dfab9f",
   "metadata": {},
   "outputs": [],
   "source": [
    "##Q5\n",
    "numbers = [2, 3, 6, 9, 27, 60, 90, 120, 55, 46]\n",
    "\n",
    "\n",
    "def divisible_by_2_and_3(num):\n",
    "    return num % 2 == 0 and num % 3 == 0\n",
    "\n",
    "\n",
    "result = list(filter(divisible_by_2_and_3, numbers))\n",
    "\n",
    "print(result)\n"
   ]
  },
  {
   "cell_type": "code",
   "execution_count": null,
   "id": "407528c2-754a-4cf2-bc02-d7c5a5e9bc78",
   "metadata": {},
   "outputs": [],
   "source": [
    "##Q6\n",
    "words = ['python', 'php', 'aba', 'radar', 'level']\n",
    "\n",
    "\n",
    "is_palindrome = lambda word: word == word[::-1]\n",
    "\n",
    "\n",
    "palindromes = list(filter(is_palindrome, words))\n",
    "\n",
    "print(palindromes)\n"
   ]
  }
 ],
 "metadata": {
  "kernelspec": {
   "display_name": "Python 3 (ipykernel)",
   "language": "python",
   "name": "python3"
  },
  "language_info": {
   "codemirror_mode": {
    "name": "ipython",
    "version": 3
   },
   "file_extension": ".py",
   "mimetype": "text/x-python",
   "name": "python",
   "nbconvert_exporter": "python",
   "pygments_lexer": "ipython3",
   "version": "3.10.8"
  }
 },
 "nbformat": 4,
 "nbformat_minor": 5
}
